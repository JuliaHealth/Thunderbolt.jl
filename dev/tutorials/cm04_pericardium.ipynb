{
 "cells": [
  {
   "cell_type": "markdown",
   "source": [
    "# Mechanics Tutorial 4: Pericardial Boundary Conditions\n",
    "\n",
    "> **Todo**\n",
    ">\n",
    "> show pericardium\n",
    "\n",
    "This tutorial shows how to couple include prestress in your simulations and how to recover the correct initial condition.\n",
    "\n",
    "> **Todo**\n",
    ">\n",
    "> Provide context.\n",
    "\n",
    "## Commented Program"
   ],
   "metadata": {}
  },
  {
   "cell_type": "markdown",
   "source": [
    "> **Todo**\n",
    ">\n",
    "> Implement [PonVerEldGarEnnPer:2019:mlv](@cite)"
   ],
   "metadata": {}
  },
  {
   "cell_type": "markdown",
   "source": [
    "---\n",
    "\n",
    "*This notebook was generated using [Literate.jl](https://github.com/fredrikekre/Literate.jl).*"
   ],
   "metadata": {}
  }
 ],
 "nbformat_minor": 3,
 "metadata": {
  "language_info": {
   "file_extension": ".jl",
   "mimetype": "application/julia",
   "name": "julia",
   "version": "1.11.3"
  },
  "kernelspec": {
   "name": "julia-1.11",
   "display_name": "Julia 1.11.3",
   "language": "julia"
  }
 },
 "nbformat": 4
}
