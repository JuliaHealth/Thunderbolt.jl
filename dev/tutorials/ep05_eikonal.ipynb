{
 "cells": [
  {
   "cell_type": "markdown",
   "source": [
    "# Electrophysiology Tutorial 5: Eikonal Models\n",
    "\n",
    "> **Todo**\n",
    ">\n",
    "> Show activation timings.\n",
    "\n",
    "This tutorial shows how to solve Eikonal models and how to recover transemembrane potential fields.\n",
    "\n",
    "> **Todo**\n",
    ">\n",
    "> Provide context.\n",
    "\n",
    "## Commented Program"
   ],
   "metadata": {}
  },
  {
   "cell_type": "markdown",
   "source": [
    "---\n",
    "\n",
    "*This notebook was generated using [Literate.jl](https://github.com/fredrikekre/Literate.jl).*"
   ],
   "metadata": {}
  }
 ],
 "nbformat_minor": 3,
 "metadata": {
  "language_info": {
   "file_extension": ".jl",
   "mimetype": "application/julia",
   "name": "julia",
   "version": "1.11.4"
  },
  "kernelspec": {
   "name": "julia-1.11",
   "display_name": "Julia 1.11.4",
   "language": "julia"
  }
 },
 "nbformat": 4
}
