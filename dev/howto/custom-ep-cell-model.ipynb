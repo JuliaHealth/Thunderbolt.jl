{
 "cells": [
  {
   "cell_type": "markdown",
   "source": [
    "# Adding EP Cell Models"
   ],
   "metadata": {}
  },
  {
   "outputs": [],
   "cell_type": "code",
   "source": [
    "using Thunderbolt"
   ],
   "metadata": {},
   "execution_count": 1
  },
  {
   "cell_type": "markdown",
   "source": [
    "We first need to define a struct holding all the parameters.\n",
    "If you want to have parameters with spatial variation, which can be exchanged easily, then simply add a field with custom type and a function which accepts a coordinate `x` and a time `t` as input, as for example here for the parameter `e`:\n",
    "> **Tip**\n",
    ">\n",
    "> Parametrize the cell model parameters with the used float type to easily change precision for GPU simulations, as some GPUs perform very bad with Float64."
   ],
   "metadata": {}
  },
  {
   "outputs": [
    {
     "output_type": "execute_result",
     "data": {
      "text/plain": "Main.var\"##409\".HeterogeneousFHNModel"
     },
     "metadata": {},
     "execution_count": 2
    }
   ],
   "cell_type": "code",
   "source": [
    "Base.@kwdef struct HeterogeneousFHNModel{T, T2} <: Thunderbolt.AbstractIonicModel\n",
    "    a::T = T(0.1)\n",
    "    b::T = T(0.5)\n",
    "    c::T = T(1.0)\n",
    "    d::T = T(0.0)\n",
    "    e::T2 = (x,t)->0.01\n",
    "end\n",
    "HeterogeneousFHNModel(::Type{T}, e::F) where {T,F} = HeterogeneousFHNModel{T,F}(0.1,0.5,1.0,0.0,e)"
   ],
   "metadata": {},
   "execution_count": 2
  },
  {
   "cell_type": "markdown",
   "source": [
    "We now need to dispatch all functions of the cell EP API.\n",
    "First we need to give an index for the transmembrane potential, which we e.g. need for operator splitting methods and during post-processing."
   ],
   "metadata": {}
  },
  {
   "outputs": [],
   "cell_type": "code",
   "source": [
    "Thunderbolt.transmembranepotential_index(cell_model::HeterogeneousFHNModel) = 1"
   ],
   "metadata": {},
   "execution_count": 3
  },
  {
   "cell_type": "markdown",
   "source": [
    "Now we need the number of state variables in the model.\n",
    "Here we have only a single internal state $s$."
   ],
   "metadata": {}
  },
  {
   "outputs": [],
   "cell_type": "code",
   "source": [
    "Thunderbolt.num_states(::HeterogeneousFHNModel) = 1"
   ],
   "metadata": {},
   "execution_count": 4
  },
  {
   "cell_type": "markdown",
   "source": [
    "For convenience, we should dispatch this function which contains some admissible initial state for the model in its default parametrization."
   ],
   "metadata": {}
  },
  {
   "outputs": [],
   "cell_type": "code",
   "source": [
    "Thunderbolt.default_initial_state(::HeterogeneousFHNModel) = [0.0, 0.0]"
   ],
   "metadata": {},
   "execution_count": 5
  },
  {
   "cell_type": "markdown",
   "source": [
    "Finally we also need to provide the right hand side of the model.\n",
    "The API is similar to what we have in SciML, but we have one additional input `x`.\n",
    "`x` contains spatial information to distinguish individual cells, allowing spatial gradients of cellular behavior.\n",
    "If no spatial information is provded, then `x === nothing`.\n",
    "Usually the types for x are either Vec{sdim}, if the coordinate is carthesian, or some generalized coordinate.\n",
    "Please consult the coordinate system API docs for more details.\n",
    "> **Note**\n",
    ">\n",
    "> You may have noticed that all inputs are parametrized.\n",
    "> This seems to be necessary to force specialization for the GPU code -- removing the type parameters leads to cryptic CUDA.jl errors."
   ],
   "metadata": {}
  },
  {
   "outputs": [],
   "cell_type": "code",
   "source": [
    "function Thunderbolt.cell_rhs!(du::TD,u::TU,x::TX,t::TT,p::TP) where {TD,TU,TX,TT,TP <: HeterogeneousFHNModel}\n",
    "    # Flatten out parameters ...\n",
    "    (;a,b,c,d) = p\n",
    "    # ... and the state variables\n",
    "    φₘ = u[1]\n",
    "    s  = u[2]\n",
    "    # Now we assign the rates.\n",
    "    du[1] = φₘ*(1-φₘ)*(φₘ-a) - s\n",
    "    du[2] = p.e(x,t)*(b*φₘ - c*s - d)\n",
    "    # Return nothing so no oopsies happen. :)\n",
    "    return nothing\n",
    "end"
   ],
   "metadata": {},
   "execution_count": 6
  },
  {
   "cell_type": "markdown",
   "source": [
    "> **Todo**\n",
    ">\n",
    "> Show how users can control which the coordiante system information is passed into the cell model."
   ],
   "metadata": {}
  },
  {
   "cell_type": "markdown",
   "source": [
    "---\n",
    "\n",
    "*This notebook was generated using [Literate.jl](https://github.com/fredrikekre/Literate.jl).*"
   ],
   "metadata": {}
  }
 ],
 "nbformat_minor": 3,
 "metadata": {
  "language_info": {
   "file_extension": ".jl",
   "mimetype": "application/julia",
   "name": "julia",
   "version": "1.11.7"
  },
  "kernelspec": {
   "name": "julia-1.11",
   "display_name": "Julia 1.11.7",
   "language": "julia"
  }
 },
 "nbformat": 4
}
