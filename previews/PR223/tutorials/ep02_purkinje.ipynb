{
 "cells": [
  {
   "cell_type": "markdown",
   "source": [
    "# Electrophysiology Tutorial 2: User Models\n",
    "\n",
    "> **Todo**\n",
    ">\n",
    "> Upload and reference my coupled simulation\n",
    "\n",
    "This tutorial shows how to generate a Purkinje network and how to couple it with the chamber.\n",
    "\n",
    "> **Todo**\n",
    ">\n",
    "> Provide context.\n",
    "\n",
    "## Commented Program"
   ],
   "metadata": {}
  },
  {
   "cell_type": "markdown",
   "source": [
    "> **Todo**\n",
    ">\n",
    "> Finalize subdomain management first and we need the volumetric intersection."
   ],
   "metadata": {}
  },
  {
   "cell_type": "markdown",
   "source": [
    "---\n",
    "\n",
    "*This notebook was generated using [Literate.jl](https://github.com/fredrikekre/Literate.jl).*"
   ],
   "metadata": {}
  }
 ],
 "nbformat_minor": 3,
 "metadata": {
  "language_info": {
   "file_extension": ".jl",
   "mimetype": "application/julia",
   "name": "julia",
   "version": "1.11.6"
  },
  "kernelspec": {
   "name": "julia-1.11",
   "display_name": "Julia 1.11.6",
   "language": "julia"
  }
 },
 "nbformat": 4
}
