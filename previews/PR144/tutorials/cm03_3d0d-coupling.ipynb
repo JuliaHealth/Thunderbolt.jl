{
 "cells": [
  {
   "cell_type": "markdown",
   "source": [
    "# Mechanics Tutorial 3: Coupling with Lumped Blood Circuits\n",
    "![Pressure Volume Loop](3d0d-pv-loop.gif)\n",
    "\n",
    "This tutorial shows how to couple 3d chamber models with 0d fluid models.\n",
    "\n",
    "## Introduction\n",
    "\n",
    "In this tutorial we will reproduce a simplified version of the model presented by [RegSalAfrFedDedQar:2022:cem](@citet).\n",
    "\n",
    "> **Warning**\n",
    ">\n",
    "> The API for 3D-0D coupling is work in progress and is hence subject to potential breaking changes.\n",
    "\n",
    "## Commented Program\n",
    "We start by loading Thunderbolt and LinearSolve to use a custom direct solver of our choice."
   ],
   "metadata": {}
  },
  {
   "outputs": [],
   "cell_type": "code",
   "source": [
    "using Thunderbolt, LinearSolve"
   ],
   "metadata": {},
   "execution_count": 1
  },
  {
   "cell_type": "markdown",
   "source": [
    "Furthermore we will use CirculatorySystemModels to define the blood circuit model."
   ],
   "metadata": {}
  },
  {
   "outputs": [],
   "cell_type": "code",
   "source": [
    "using CirculatorySystemModels"
   ],
   "metadata": {},
   "execution_count": 2
  },
  {
   "cell_type": "markdown",
   "source": [
    "Finally, we try to approach a valid initial state by solving a simpler model first."
   ],
   "metadata": {}
  },
  {
   "outputs": [],
   "cell_type": "code",
   "source": [
    "using ModelingToolkit, OrdinaryDiffEqTsit5"
   ],
   "metadata": {},
   "execution_count": 3
  },
  {
   "cell_type": "markdown",
   "source": [
    "We start by defining a MTK component to couple the circuit model with Thunderbolt."
   ],
   "metadata": {}
  },
  {
   "outputs": [],
   "cell_type": "code",
   "source": [
    "@component function PressureCouplingChamber(;name)\n",
    "    @named in = CirculatorySystemModels.Pin()\n",
    "    @named out = CirculatorySystemModels.Pin()\n",
    "    sts = @variables begin\n",
    "        V(t) = 0.0#, [description = \"Volume of the lumped 0D chamber\"]\n",
    "        p(t)\n",
    "    end\n",
    "    ps = @parameters begin\n",
    "        p3D(t), [description = \"Pressure of the associated 3D chamber\"]\n",
    "    end\n",
    "\n",
    "    D = Differential(t)\n",
    "\n",
    "    eqs = [\n",
    "        0 ~ in.p - out.p\n",
    "        p ~ in.p\n",
    "        p ~ p3D\n",
    "        D(V) ~ in.q + out.q\n",
    "    ]\n",
    "\n",
    "    compose(ODESystem(eqs, t, sts, ps; name=name), in, out)\n",
    "end;"
   ],
   "metadata": {},
   "execution_count": 4
  },
  {
   "cell_type": "markdown",
   "source": [
    "[RegSalAfrFedDedQar:2022:cem](@citet) use a leaky diode for the heart valves, which is not part of CirculatorySystemModels."
   ],
   "metadata": {}
  },
  {
   "outputs": [],
   "cell_type": "code",
   "source": [
    "@component function LeakyResistorDiode(;name, Rₘᵢₙ, Rₘₐₓ)\n",
    "    @named oneport = CirculatorySystemModels.OnePort()\n",
    "    @unpack Δp, q = oneport\n",
    "    ps = @parameters Rₘᵢₙ = Rₘᵢₙ Rₘₐₓ = Rₘₐₓ\n",
    "    eqs = [\n",
    "        q ~ - (Δp / Rₘᵢₙ * (Δp < 0) + Δp / Rₘₐₓ * (Δp ≥ 0))\n",
    "    ]\n",
    "    extend(ODESystem(eqs, t, [], ps; name=name), oneport)\n",
    "end;"
   ],
   "metadata": {},
   "execution_count": 5
  },
  {
   "cell_type": "markdown",
   "source": [
    "These are the parameters from the paper [RegSalAfrFedDedQar:2022:cem](@cite)"
   ],
   "metadata": {}
  },
  {
   "outputs": [
    {
     "output_type": "execute_result",
     "data": {
      "text/plain": "120.0"
     },
     "metadata": {},
     "execution_count": 6
    }
   ],
   "cell_type": "code",
   "source": [
    "τ = 1.0e3\n",
    "#\n",
    "Rsysₐᵣ  = (0.8e3)\n",
    "Rpulₐᵣ  = (0.1625e3)\n",
    "Rsysᵥₑₙ = (0.26e3)\n",
    "Rpulᵥₑₙ = (0.1625e3)\n",
    "#\n",
    "Csysₐᵣ  = (1.2)\n",
    "Cpulₐᵣ  = (10.0)\n",
    "Csysᵥₑₙ = (60.0)\n",
    "Cpulᵥₑₙ = (16.0)\n",
    "#\n",
    "Lsysₐᵣ  = (5e3)\n",
    "Lpulₐᵣ  = (5e2)\n",
    "Lsysᵥₑₙ = (5e2)\n",
    "Lpulᵥₑₙ = (5e2)\n",
    "# Valve stuff\n",
    "Rmin = (0.0075e3)\n",
    "Rmax = (75000.0e3)\n",
    "# Passive elastance\n",
    "Epassₗₐ = (0.15)\n",
    "Epassᵣₐ = (0.15)\n",
    "Epassᵣᵥ = (0.1)\n",
    "# Active elastance\n",
    "Eactmaxₗₐ = (0.1)\n",
    "Eactmaxᵣₐ = (0.1)\n",
    "Eactmaxᵣᵥ = (1.4)\n",
    "# \"Initial volume\"\n",
    "V0ₗₐ = (4.0)\n",
    "V0ᵣₐ = (4.0)\n",
    "V0ᵣᵥ = (10.0)\n",
    "# Event timings\n",
    "tCₗₐ = (0.6e3)\n",
    "TCₗₐ = (0.104e3)\n",
    "TRₗₐ = (0.68e3)\n",
    "TRᵣₐ = (0.56e3)\n",
    "tCᵣₐ = (0.064e3)\n",
    "TCᵣₐ = (0.64e3)\n",
    "tCᵣᵥ = (0.0e3)\n",
    "TCᵣᵥ = (0.272e3)\n",
    "TRᵣᵥ = (0.12e3)"
   ],
   "metadata": {},
   "execution_count": 6
  },
  {
   "cell_type": "markdown",
   "source": [
    "τ = (0.8e3)"
   ],
   "metadata": {}
  },
  {
   "outputs": [
    {
     "output_type": "execute_result",
     "data": {
      "text/plain": "20.0"
     },
     "metadata": {},
     "execution_count": 7
    }
   ],
   "cell_type": "code",
   "source": [
    "# Extra parameters to emulate the LV\n",
    "V0ₗᵥ = (5.0)\n",
    "Epassₗᵥ = (0.125)\n",
    "Eactmaxₗᵥ = (2.4)\n",
    "TCₗᵥ = (0.30e3)\n",
    "TRₗᵥ = (0.15e3)\n",
    "\n",
    "Eshiftᵣᵥ = 0.0\n",
    "Eshiftₗₐ = 1.0-tCₗₐ/τ\n",
    "Eshiftᵣₐ = 1.0-tCᵣₐ/τ\n",
    "\n",
    "LV_Vt0 = 500.0\n",
    "RV_Vt0 = 500.0\n",
    "LA_Vt0 = 20.0\n",
    "RA_Vt0 = 20.0"
   ],
   "metadata": {},
   "execution_count": 7
  },
  {
   "cell_type": "markdown",
   "source": [
    "> **Todo**\n",
    ">\n",
    "> I made some unit conversion error somewhere here.\n",
    "> This needs to be fixed."
   ],
   "metadata": {}
  },
  {
   "cell_type": "markdown",
   "source": [
    "We now setup the model for the initial state"
   ],
   "metadata": {}
  },
  {
   "outputs": [],
   "cell_type": "code",
   "source": [
    "# Start Modelling\n",
    "@independent_variables t\n",
    "\n",
    "# Atria and ventricles\n",
    "@named LV = ShiChamber(V₀=V0ₗᵥ, p₀=0.0, Eₘᵢₙ=Epassₗᵥ, Eₘₐₓ=Epassₗᵥ+Eactmaxₗᵥ, τ=τ, τₑₛ=TCₗᵥ, τₑₚ=TCₗᵥ+TRₗᵥ, Eshift=0.0)\n",
    "@named LA = ShiChamber(V₀=V0ₗₐ, p₀=0.0, Eₘᵢₙ=Epassₗₐ, Eₘₐₓ=Epassₗₐ+Eactmaxₗₐ, τ=τ, τₑₛ=TCₗₐ, τₑₚ=TCₗₐ+TRₗₐ, Eshift=Eshiftₗₐ)\n",
    "@named RV = ShiChamber(V₀=V0ᵣᵥ, p₀=0.0, Eₘᵢₙ=Epassᵣᵥ, Eₘₐₓ=Epassᵣᵥ+Eactmaxᵣᵥ, τ=τ, τₑₛ=TCᵣᵥ, τₑₚ=TCᵣᵥ+TRᵣᵥ, Eshift=0.0)\n",
    "@named RA = ShiChamber(V₀=V0ᵣₐ, p₀=0.0, Eₘᵢₙ=Epassᵣₐ, Eₘₐₓ=Epassᵣₐ+Eactmaxᵣₐ, τ=τ, τₑₛ=TCᵣₐ, τₑₚ=TCₗₐ+TRₗₐ, Eshift=Eshiftᵣₐ)\n",
    "\n",
    "# Valves as leaky diodes\n",
    "@named AV = LeakyResistorDiode(Rₘᵢₙ = Rmin, Rₘₐₓ = Rmax)\n",
    "@named MV = LeakyResistorDiode(Rₘᵢₙ = Rmin, Rₘₐₓ = Rmax)\n",
    "@named TV = LeakyResistorDiode(Rₘᵢₙ = Rmin, Rₘₐₓ = Rmax)\n",
    "@named PV = LeakyResistorDiode(Rₘᵢₙ = Rmin, Rₘₐₓ = Rmax)\n",
    "\n",
    "####### Systemic Loop #######\n",
    "# Systemic Artery ##\n",
    "@named SYSAR = CRL(C=Csysₐᵣ, R=Rsysₐᵣ, L=Lsysₐᵣ)\n",
    "# Systemic Vein ##\n",
    "@named SYSVEN = CRL(C=Csysᵥₑₙ, R=Rsysᵥₑₙ, L=Lsysᵥₑₙ)\n",
    "\n",
    "####### Pulmonary Loop #######\n",
    "# Pulmonary Artery ##\n",
    "@named PULAR = CRL(C=Cpulₐᵣ, R=Rpulₐᵣ, L=Lpulₐᵣ)\n",
    "# Pulmonary Vein ##\n",
    "@named PULVEN = CRL(C=Cpulᵥₑₙ, R=Rpulᵥₑₙ, L=Lpulᵥₑₙ)\n",
    "\n",
    "#\n",
    "circ_eqs_init = [\n",
    "    connect(LV.out, AV.in)\n",
    "    connect(AV.out, SYSAR.in)\n",
    "    connect(SYSAR.out, SYSVEN.in)\n",
    "    connect(SYSVEN.out, RA.in)\n",
    "    connect(RA.out, TV.in)\n",
    "    connect(TV.out, RV.in)\n",
    "    connect(RV.out, PV.in)\n",
    "    connect(PV.out,  PULAR.in)\n",
    "    connect(PULAR.out, PULVEN.in)\n",
    "    connect(PULVEN.out, LA.in)\n",
    "    connect(LA.out, MV.in)\n",
    "    connect(MV.out, LV.in)\n",
    "]\n",
    "\n",
    "# Compose the whole ODE system\n",
    "@named _circ_model_init = ODESystem(circ_eqs_init, t)\n",
    "@named circ_model_init = compose(_circ_model_init,\n",
    "    [LV, RV, LA, RA, AV, MV, PV, TV, SYSAR, SYSVEN, PULAR, PULVEN])\n",
    "\n",
    "# And simplify it\n",
    "circ_sys_init = structural_simplify(circ_model_init)\n",
    "\n",
    "# Setup ODE with reasonable initial guess\n",
    "u0 = [\n",
    "    LV.V => LV_Vt0\n",
    "    RV.V => RV_Vt0\n",
    "    RA.V => RA_Vt0\n",
    "    LA.V => LA_Vt0\n",
    "    SYSAR.C.V => 100.0 * Csysₐᵣ\n",
    "    SYSAR.L.q => 0.0\n",
    "    SYSVEN.C.V => 0.0\n",
    "    SYSVEN.L.q => 0.0\n",
    "    PULAR.C.V => 30.0 * Cpulₐᵣ\n",
    "    PULAR.L.q => 0.0\n",
    "    PULVEN.C.V => 0.0\n",
    "    PULVEN.L.q => 0.0\n",
    "];"
   ],
   "metadata": {},
   "execution_count": 8
  },
  {
   "cell_type": "markdown",
   "source": [
    "Simulate the full 0D model for a few heat beats using Tsit5."
   ],
   "metadata": {}
  },
  {
   "outputs": [
    {
     "output_type": "execute_result",
     "data": {
      "text/plain": "\u001b[38;2;86;182;194mODEProblem\u001b[0m with uType \u001b[38;2;86;182;194mVector{Float64}\u001b[0m and tType \u001b[38;2;86;182;194mFloat64\u001b[0m. In-place: \u001b[38;2;86;182;194mtrue\u001b[0m\ntimespan: (0.0, 20000.0)\nu0: 12-element Vector{Float64}:\n 500.0\n 500.0\n  20.0\n  20.0\n 120.0\n   0.0\n   0.0\n   0.0\n 300.0\n   0.0\n   0.0\n   0.0"
     },
     "metadata": {},
     "execution_count": 9
    }
   ],
   "cell_type": "code",
   "source": [
    "prob = OrdinaryDiffEqTsit5.ODEProblem(circ_sys_init, u0, (0.0, 20.0e3))"
   ],
   "metadata": {},
   "execution_count": 9
  },
  {
   "cell_type": "markdown",
   "source": [
    "> **Todo**\n",
    ">\n",
    ">  Once Thudnerbolt is compatible with OrdinaryDiffEq we should remove the namespacing here."
   ],
   "metadata": {}
  },
  {
   "outputs": [
    {
     "name": "stdout",
     "output_type": "stream",
     "text": [
      "  2.187850 seconds (6.39 M allocations: 325.601 MiB, 2.76% gc time, 97.63% compilation time)\n"
     ]
    }
   ],
   "cell_type": "code",
   "source": [
    "@time circ_sol_init = solve(prob, Tsit5(), reltol=1e-9, abstol=1e-12, saveat=18e3:0.01e3:20e3);"
   ],
   "metadata": {},
   "execution_count": 10
  },
  {
   "cell_type": "markdown",
   "source": [
    "> **Tip**\n",
    ">\n",
    "> We can visualize the last pressure-volume loop as follows with GLMakie\n",
    "> ```julia\n",
    "> using GLMakie\n",
    "> f = Figure()\n",
    "> axs = [\n",
    ">     Axis(f[1, 1], title=\"LV\"),\n",
    ">     Axis(f[1, 2], title=\"RV\"),\n",
    ">     Axis(f[2, 1], title=\"LA\"),\n",
    ">     Axis(f[2, 2], title=\"RA\")\n",
    "> ]"
   ],
   "metadata": {}
  },
  {
   "cell_type": "markdown",
   "source": [
    "    lines!(axs[1], circ_sol_init[LV.V], circ_sol_init[LV.p])\n",
    "    lines!(axs[2], circ_sol_init[RV.V], circ_sol_init[RV.p])\n",
    "    lines!(axs[3], circ_sol_init[LA.V], circ_sol_init[LA.p])\n",
    "    lines!(axs[4], circ_sol_init[RA.V], circ_sol_init[RA.p])\n",
    "    ```"
   ],
   "metadata": {}
  },
  {
   "cell_type": "markdown",
   "source": [
    "With the solution we now extract the initial guess for the full problem."
   ],
   "metadata": {}
  },
  {
   "outputs": [],
   "cell_type": "code",
   "source": [
    "u0new = copy(circ_sol_init.u[end]);"
   ],
   "metadata": {},
   "execution_count": 11
  },
  {
   "cell_type": "markdown",
   "source": [
    "> **Todo**\n",
    ">\n",
    "> This is illegal.\n",
    "> Figure out how to do the transfer correctly."
   ],
   "metadata": {}
  },
  {
   "cell_type": "markdown",
   "source": [
    "Now that we have a sensible initial guess we build actual 3d-0d coupled system\n",
    "For this, we first instantiate the coupling component"
   ],
   "metadata": {}
  },
  {
   "outputs": [],
   "cell_type": "code",
   "source": [
    "@named LVc = PressureCouplingChamber();"
   ],
   "metadata": {},
   "execution_count": 12
  },
  {
   "cell_type": "markdown",
   "source": [
    "and connect it with the other equations"
   ],
   "metadata": {}
  },
  {
   "outputs": [],
   "cell_type": "code",
   "source": [
    "circ_eqs = [\n",
    "    connect(LVc.out, AV.in)\n",
    "    connect(AV.out, SYSAR.in)\n",
    "    connect(SYSAR.out, SYSVEN.in)\n",
    "    connect(SYSVEN.out, RA.in)\n",
    "    connect(RA.out, TV.in)\n",
    "    connect(TV.out, RV.in)\n",
    "    connect(RV.out, PV.in)\n",
    "    connect(PV.out,  PULAR.in)\n",
    "    connect(PULAR.out, PULVEN.in)\n",
    "    connect(PULVEN.out, LA.in)\n",
    "    connect(LA.out, MV.in)\n",
    "    connect(MV.out, LVc.in)\n",
    "];"
   ],
   "metadata": {},
   "execution_count": 13
  },
  {
   "cell_type": "markdown",
   "source": [
    "Now we compose the whole ODE system first"
   ],
   "metadata": {}
  },
  {
   "outputs": [],
   "cell_type": "code",
   "source": [
    "@named _circ_model = ODESystem(circ_eqs, t)\n",
    "@named circ_model = compose(_circ_model,\n",
    "    [LVc, RV, LA, RA, AV, MV, PV, TV, SYSAR, SYSVEN, PULAR, PULVEN])\n",
    "circ_sys = structural_simplify(circ_model);"
   ],
   "metadata": {},
   "execution_count": 14
  },
  {
   "cell_type": "markdown",
   "source": [
    "We now generate the mechanical subproblem as in the first tutorial"
   ],
   "metadata": {}
  },
  {
   "outputs": [],
   "cell_type": "code",
   "source": [
    "scaling_factor = 3.0;"
   ],
   "metadata": {},
   "execution_count": 15
  },
  {
   "cell_type": "markdown",
   "source": [
    "> **Warning**\n",
    ">\n",
    "> Tuning parameter until all bugs are fixed in this tutorial :)"
   ],
   "metadata": {}
  },
  {
   "outputs": [
    {
     "output_type": "execute_result",
     "data": {
      "text/plain": "Thunderbolt.SimpleMesh{3, Hexahedron, Float64} with 736 Hexahedron cells and 965 nodes\n  Surface subdomains:\n    Epicardium 184 Hexahedron cells\n    Base 64 Hexahedron cells\n    Endocardium 184 Hexahedron cells\n"
     },
     "metadata": {},
     "execution_count": 16
    }
   ],
   "cell_type": "code",
   "source": [
    "mesh = generate_ideal_lv_mesh(8,2,5;\n",
    "    inner_radius = scaling_factor*0.7,\n",
    "    outer_radius = scaling_factor*1.0,\n",
    "    longitudinal_upper = scaling_factor*0.2,\n",
    "    apex_inner = scaling_factor* 1.3,\n",
    "    apex_outer = scaling_factor*1.5\n",
    ")\n",
    "mesh = Thunderbolt.hexahedralize(mesh)"
   ],
   "metadata": {},
   "execution_count": 16
  },
  {
   "cell_type": "markdown",
   "source": [
    "> **Todo**\n",
    ">\n",
    "> The 3D0D coupling does not yet support multiple subdomains."
   ],
   "metadata": {}
  },
  {
   "outputs": [],
   "cell_type": "code",
   "source": [
    "coordinate_system = compute_lv_coordinate_system(mesh)\n",
    "microstructure    = create_simple_microstructure_model(\n",
    "    coordinate_system,\n",
    "    LagrangeCollection{1}()^3,\n",
    "    endo_helix_angle = deg2rad(60.0),\n",
    "    epi_helix_angle = deg2rad(-60.0),\n",
    ")\n",
    "passive_material_model = Guccione1991PassiveModel()\n",
    "active_material_model  = Guccione1993ActiveModel()\n",
    "function calcium_profile_function(x::LVCoordinate,t)\n",
    "    linear_interpolation(t,y1,y2,t1,t2) = y1 + (t-t1) * (y2-y1)/(t2-t1)\n",
    "    ca_peak(x)                          = 1.0\n",
    "    if 0 ≤ t ≤ 300.0\n",
    "        return linear_interpolation(t,        0.0, ca_peak(x),   0.0, 300.0)\n",
    "    elseif t ≤ 500.0\n",
    "        return linear_interpolation(t, ca_peak(x),        0.0, 300.0, 500.0)\n",
    "    else\n",
    "        return 0.0\n",
    "    end\n",
    "end\n",
    "calcium_field = AnalyticalCoefficient(\n",
    "    calcium_profile_function,\n",
    "    CoordinateSystemCoefficient(coordinate_system),\n",
    ")\n",
    "sarcomere_model = ConstantStretchModel(;calcium_field)\n",
    "active_stress_model = ActiveStressModel(\n",
    "    passive_material_model,\n",
    "    active_material_model,\n",
    "    sarcomere_model,\n",
    "    microstructure,\n",
    ")\n",
    "weak_boundary_conditions = (NormalSpringBC(1.0, \"Epicardium\"),)\n",
    "solid_model = QuasiStaticModel(:displacement, active_stress_model, weak_boundary_conditions);"
   ],
   "metadata": {},
   "execution_count": 17
  },
  {
   "cell_type": "markdown",
   "source": [
    "The solid model is now couple with the circuit model by adding a Lagrange multipliers constraining the 3D chamber volume to match the chamber volume in the 0D model."
   ],
   "metadata": {}
  },
  {
   "outputs": [],
   "cell_type": "code",
   "source": [
    "p3D = LVc.p3D\n",
    "V0D = LVc.V\n",
    "fluid_model = MTKLumpedCicuitModel(circ_sys, u0new, [p3D])\n",
    "coupler = LumpedFluidSolidCoupler(\n",
    "    [\n",
    "        ChamberVolumeCoupling(\n",
    "            \"Endocardium\",\n",
    "            RSAFDQ2022SurrogateVolume(),\n",
    "            V0D\n",
    "        )\n",
    "    ],\n",
    "    :displacement,\n",
    ")\n",
    "coupled_model = RSAFDQ2022Model(solid_model,fluid_model,coupler);"
   ],
   "metadata": {},
   "execution_count": 18
  },
  {
   "cell_type": "markdown",
   "source": [
    "> **Todo**\n",
    ">\n",
    "> Once we figure out a nicer way to do this we should add more detailed docs here."
   ],
   "metadata": {}
  },
  {
   "cell_type": "markdown",
   "source": [
    "Now we semidiscretize the model spatially as usual with finite elements and annotate the model with a stable split."
   ],
   "metadata": {}
  },
  {
   "outputs": [
    {
     "output_type": "execute_result",
     "data": {
      "text/plain": "(0.0, 1000.0)"
     },
     "metadata": {},
     "execution_count": 19
    }
   ],
   "cell_type": "code",
   "source": [
    "spatial_discretization_method = FiniteElementDiscretization(\n",
    "    Dict(:displacement => LagrangeCollection{1}()^3),\n",
    "    [\n",
    "        Dirichlet(:displacement, getfacetset(mesh, \"Base\"), (x,t) -> [0.0], [3]),\n",
    "        Dirichlet(:displacement, getnodeset(mesh, \"MyocardialAnchor1\"), (x,t) -> (0.0, 0.0, 0.0), [1,2,3]),\n",
    "        Dirichlet(:displacement, getnodeset(mesh, \"MyocardialAnchor2\"), (x,t) -> (0.0, 0.0), [2,3]),\n",
    "        Dirichlet(:displacement, getnodeset(mesh, \"MyocardialAnchor3\"), (x,t) -> (0.0,), [3]),\n",
    "        Dirichlet(:displacement, getnodeset(mesh, \"MyocardialAnchor4\"), (x,t) -> (0.0,), [3])\n",
    "    ],\n",
    ")\n",
    "splitform = semidiscretize(\n",
    "    RSAFDQ2022Split(coupled_model),\n",
    "    spatial_discretization_method,\n",
    "    mesh,\n",
    ")\n",
    "\n",
    "dt₀ = 1.0\n",
    "dtvis = 5.0\n",
    "tspan = (0.0, 1000.0)"
   ],
   "metadata": {},
   "execution_count": 19
  },
  {
   "cell_type": "markdown",
   "source": [
    "This speeds up the CI # hide"
   ],
   "metadata": {}
  },
  {
   "outputs": [
    {
     "output_type": "execute_result",
     "data": {
      "text/plain": "(0.0, 5.0)"
     },
     "metadata": {},
     "execution_count": 20
    }
   ],
   "cell_type": "code",
   "source": [
    "tspan = (0.0, dtvis)    # hide"
   ],
   "metadata": {},
   "execution_count": 20
  },
  {
   "cell_type": "markdown",
   "source": [
    "The remaining code is very similar to how we use SciML solvers."
   ],
   "metadata": {}
  },
  {
   "outputs": [],
   "cell_type": "code",
   "source": [
    "chamber_solver = HomotopyPathSolver(\n",
    "    NewtonRaphsonSolver(;\n",
    "        max_iter=10,\n",
    "        tol=1e-2,\n",
    "        inner_solver=SchurComplementLinearSolver(\n",
    "            LinearSolve.UMFPACKFactorization()\n",
    "        )\n",
    "    )\n",
    ")\n",
    "blood_circuit_solver = ForwardEulerSolver(rate=ceil(Int, dt₀/0.001)) # Force time step to about 0.001\n",
    "timestepper = LieTrotterGodunov((chamber_solver, blood_circuit_solver))\n",
    "\n",
    "u₀ = zeros(solution_size(splitform))\n",
    "u₀[OS.get_dofrange(splitform, 2)] .= u0new;"
   ],
   "metadata": {},
   "execution_count": 21
  },
  {
   "cell_type": "markdown",
   "source": [
    "> **Todo**\n",
    ">\n",
    "> How to map this correctly? If I understand correctly, then there is no guarantee that the states match."
   ],
   "metadata": {}
  },
  {
   "outputs": [],
   "cell_type": "code",
   "source": [
    "problem = OperatorSplittingProblem(splitform, u₀, tspan)\n",
    "integrator = init(problem, timestepper, dt=dt₀, verbose=true);\n",
    "\n",
    "\n",
    "# f2 = Figure()\n",
    "# axs = [\n",
    "#     Axis(f2[1, 1], title=\"LV\"),\n",
    "#     Axis(f2[1, 2], title=\"RV\"),\n",
    "#     Axis(f2[2, 1], title=\"LA\"),\n",
    "#     Axis(f2[2, 2], title=\"RA\")\n",
    "# ]\n",
    "\n",
    "# vlv = Observable(Float64[])\n",
    "# plv = Observable(Float64[])\n",
    "\n",
    "# vrv = Observable(Float64[])\n",
    "# prv = Observable(Float64[])\n",
    "\n",
    "# vla = Observable(Float64[])\n",
    "# pla = Observable(Float64[])\n",
    "\n",
    "# vra = Observable(Float64[])\n",
    "# pra = Observable(Float64[])\n",
    "\n",
    "# lines!(axs[1], vlv, plv)\n",
    "# lines!(axs[2], vrv, prv)\n",
    "# lines!(axs[3], vla, pla)\n",
    "# lines!(axs[4], vra, pra)\n",
    "# for i in 1:4\n",
    "#     xlims!(axs[1], 0.0, 180.0)\n",
    "#     ylims!(axs[1], 0.0, 180.0)\n",
    "# end\n",
    "# display(f2)"
   ],
   "metadata": {},
   "execution_count": 22
  },
  {
   "cell_type": "markdown",
   "source": [
    "> **Todo**\n",
    ">\n",
    "> recover online visualization of the pressure volume loop"
   ],
   "metadata": {}
  },
  {
   "cell_type": "markdown",
   "source": [
    "> **Todo**\n",
    ">\n",
    "> The post-processing API is not yet finished.\n",
    "> Please revisit the tutorial later to see how to post-process the simulation online.\n",
    "> Right now the solution is just exported into VTK, such that users can visualize the solution in e.g. ParaView."
   ],
   "metadata": {}
  },
  {
   "cell_type": "markdown",
   "source": [
    "Now we can finally solve the coupled problem in time."
   ],
   "metadata": {}
  },
  {
   "outputs": [
    {
     "name": "stdout",
     "output_type": "stream",
     "text": [
      "[ Info: Volume 3D 65.20684075709728\n",
      "[ Info: Chamber 1 p=0.0, V0=62.76838109913676\n",
      "[ Info: Volume 3D 62.794403364087636\n",
      "[ Info: Chamber 1 p=-0.21209846863789478, V0=62.76838109913676\n",
      "[ Info: Volume 3D 62.768384814992885\n",
      "[ Info: Chamber 1 p=-0.21823108028152374, V0=62.76838109913676\n",
      "[ Info: Volume 3D 62.768384814992885\n",
      "[ Info: Chamber 1 p=-0.21823108028152374, V0=63.719031648637326\n",
      "[ Info: Volume 3D 63.72312522656397\n",
      "[ Info: Chamber 1 p=-0.12970988817529527, V0=63.719031648637326\n",
      "[ Info: Volume 3D 63.71903219285121\n",
      "[ Info: Chamber 1 p=-0.13068835048928915, V0=63.719031648637326\n",
      "[ Info: Volume 3D 63.71903219285121\n",
      "[ Info: Chamber 1 p=-0.13068835048928915, V0=64.63712716985239\n",
      "[ Info: Volume 3D 64.64089338890005\n",
      "[ Info: Chamber 1 p=-0.04653161148033179, V0=64.63712716985239\n",
      "[ Info: Volume 3D 64.63712764690322\n",
      "[ Info: Chamber 1 p=-0.04737391507367394, V0=64.63712716985239\n",
      "[ Info: Volume 3D 64.63712764690322\n",
      "[ Info: Chamber 1 p=-0.04737391507367394, V0=65.52399288873923\n",
      "[ Info: Volume 3D 65.52746145447291\n",
      "[ Info: Chamber 1 p=0.03288908042070656, V0=65.52399288873923\n",
      "[ Info: Volume 3D 65.52399330858543\n",
      "[ Info: Chamber 1 p=0.032159963993909656, V0=65.52399288873923\n",
      "[ Info: Volume 3D 65.52399330858543\n",
      "[ Info: Chamber 1 p=0.032159963993909656, V0=66.38086689056078\n",
      "[ Info: Volume 3D 66.38406450341803\n",
      "[ Info: Chamber 1 p=0.10892817825359877, V0=66.38086689056078\n",
      "[ Info: Volume 3D 66.38086726238755\n",
      "[ Info: Chamber 1 p=0.10829414793577397, V0=66.38086689056078\n"
     ]
    }
   ],
   "cell_type": "code",
   "source": [
    "io = ParaViewWriter(\"CM03_3d0d-coupling\");\n",
    "for (u, t) in TimeChoiceIterator(integrator, tspan[1]:dtvis:tspan[2])\n",
    "    chamber_function = OS.get_operator(splitform, 1)\n",
    "    (; dh) = chamber_function.structural_function\n",
    "    store_timestep!(io, t, dh.grid)\n",
    "    Thunderbolt.store_timestep_field!(io, t, dh, u[1:ndofs(dh)], :displacement) # TODO allow views\n",
    "    Thunderbolt.finalize_timestep!(io, t)\n",
    "\n",
    "    # if t > 0.0\n",
    "    #     lv = chamber_function.tying_info.chambers[1]\n",
    "    #     append!(vlv.val, lv.V⁰ᴰval)\n",
    "    #     append!(plv.val, u[lv.pressure_dof_index_global])\n",
    "    #     notify(vlv)\n",
    "    #     notify(plv)\n",
    "    # end\n",
    "    # TODO plot other chambers\n",
    "end"
   ],
   "metadata": {},
   "execution_count": 23
  },
  {
   "cell_type": "markdown",
   "source": [
    "> **Tip**\n",
    ">\n",
    "> If you want to see more details of the solution process launch Julia with Thunderbolt as debug module:\n",
    "> ```\n",
    "> JULIA_DEBUG=Thunderbolt julia --project --threads=auto my_simulation_runner.jl\n",
    "> ```"
   ],
   "metadata": {}
  },
  {
   "cell_type": "markdown",
   "source": [
    "---\n",
    "\n",
    "*This notebook was generated using [Literate.jl](https://github.com/fredrikekre/Literate.jl).*"
   ],
   "metadata": {}
  }
 ],
 "nbformat_minor": 3,
 "metadata": {
  "language_info": {
   "file_extension": ".jl",
   "mimetype": "application/julia",
   "name": "julia",
   "version": "1.11.3"
  },
  "kernelspec": {
   "name": "julia-1.11",
   "display_name": "Julia 1.11.3",
   "language": "julia"
  }
 },
 "nbformat": 4
}
