{
 "cells": [
  {
   "cell_type": "markdown",
   "source": [
    "# Mechanics Tutorial 5: Coupling Heart Valve Models\n",
    "\n",
    "> **Todo**\n",
    ">\n",
    "> show open four chamber geometry\n",
    "\n",
    "This tutorial shows how to do four chamber simulations.\n",
    "\n",
    "> **Todo**\n",
    ">\n",
    "> Provide context.\n",
    "\n",
    "## Commented Program"
   ],
   "metadata": {}
  },
  {
   "cell_type": "markdown",
   "source": [
    "> **Todo**\n",
    ">\n",
    "> Finalize subdomain management and use this as first simple showcase.\n",
    "> Use free four chamber model."
   ],
   "metadata": {}
  },
  {
   "cell_type": "markdown",
   "source": [
    "---\n",
    "\n",
    "*This notebook was generated using [Literate.jl](https://github.com/fredrikekre/Literate.jl).*"
   ],
   "metadata": {}
  }
 ],
 "nbformat_minor": 3,
 "metadata": {
  "language_info": {
   "file_extension": ".jl",
   "mimetype": "application/julia",
   "name": "julia",
   "version": "1.11.3"
  },
  "kernelspec": {
   "name": "julia-1.11",
   "display_name": "Julia 1.11.3",
   "language": "julia"
  }
 },
 "nbformat": 4
}
