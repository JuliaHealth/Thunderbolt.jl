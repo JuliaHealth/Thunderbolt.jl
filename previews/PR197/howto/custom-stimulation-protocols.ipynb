{
 "cells": [
  {
   "cell_type": "markdown",
   "source": [
    "# Custom Stimulation Protocols"
   ],
   "metadata": {}
  },
  {
   "cell_type": "markdown",
   "source": [
    "## Analytical protocols\n",
    "The easiest way to implement a custom stimulation protocol is to use the AnalyticalTransmembraneStimulationProtocol\n",
    "\n",
    "We start by define a struct holding all the parameters and make it callable.\n",
    "The return value is the stimulus strength.\n",
    "If you want to have parameters with spatial variation, which can be exchanged easily, then simply add a field with custom type and a function which accepts a coordinate `x` and a time `t` as input.\n",
    "\n",
    "Here we want to have a very simple S1S2 protocol with two spherical stimulus applied in a modular fashion.\n",
    "Hence, we define a struct holding two callable functions and the windows for the Stimuli."
   ],
   "metadata": {}
  },
  {
   "outputs": [],
   "cell_type": "code",
   "source": [
    "using Thunderbolt, StaticArrays\n",
    "\n",
    "struct SimpleS1S2Protocol{S1Type, S2Type, WT} <: Function\n",
    "    S1::S1Type\n",
    "    S1_window::WT\n",
    "    S2::S2Type\n",
    "    S2_window::WT\n",
    "end"
   ],
   "metadata": {},
   "execution_count": 1
  },
  {
   "cell_type": "markdown",
   "source": [
    "The function call then simply selects the correct stimulus with time offset, and return 0 outside of the intervals."
   ],
   "metadata": {}
  },
  {
   "outputs": [],
   "cell_type": "code",
   "source": [
    "function (protocol::SimpleS1S2Protocol)(x,t)\n",
    "    if protocol.S1_window[1] < t < protocol.S1_window[2]\n",
    "        return protocol.S1(x,t-protocol.S1_window[1])\n",
    "    elseif protocol.S2_window[1] < t < protocol.S2_window[2]\n",
    "        return protocol.S2(x,t-protocol.S2_window[1])\n",
    "    end\n",
    "    return 0.0\n",
    "end"
   ],
   "metadata": {},
   "execution_count": 2
  },
  {
   "cell_type": "markdown",
   "source": [
    "It is now possible to use the protocol as follows"
   ],
   "metadata": {}
  },
  {
   "outputs": [
    {
     "output_type": "execute_result",
     "data": {
      "text/plain": "AnalyticalTransmembraneStimulationProtocol{AnalyticalCoefficient{Main.var\"##999\".SimpleS1S2Protocol{typeof(Main.var\"##999\".stimulus_around_zero), typeof(Main.var\"##999\".stimulus_around_one), StaticArraysCore.SVector{2, Float64}}, CoordinateSystemCoefficient{CartesianCoordinateSystem{3, Float32}}}, Float64, Vector{StaticArraysCore.SVector{2, Float64}}}(AnalyticalCoefficient{Main.var\"##999\".SimpleS1S2Protocol{typeof(Main.var\"##999\".stimulus_around_zero), typeof(Main.var\"##999\".stimulus_around_one), StaticArraysCore.SVector{2, Float64}}, CoordinateSystemCoefficient{CartesianCoordinateSystem{3, Float32}}}(Main.var\"##999\".SimpleS1S2Protocol{typeof(Main.var\"##999\".stimulus_around_zero), typeof(Main.var\"##999\".stimulus_around_one), StaticArraysCore.SVector{2, Float64}}(Main.var\"##999\".stimulus_around_zero, [0.0, 1.0], Main.var\"##999\".stimulus_around_one, [200.0, 201.0]), CoordinateSystemCoefficient{CartesianCoordinateSystem{3, Float32}}(CartesianCoordinateSystem{3, Float32}())), StaticArraysCore.SVector{2, Float64}[[0.0, 1.0], [200.0, 201.0]])"
     },
     "metadata": {},
     "execution_count": 3
    }
   ],
   "cell_type": "code",
   "source": [
    "coordinate_system_coefficient = CoordinateSystemCoefficient(CartesianCoordinateSystem{3}()) # Or some cardiac coordinate system\n",
    "stimulus_around_zero(x,t) = max(1.0-norm(x),0.0)\n",
    "stimulus_around_one(x,t)  = max(1.0-norm(x+one(x)),0.0)\n",
    "s1s2fun = SimpleS1S2Protocol(\n",
    "    stimulus_around_zero, SVector((  0.0,   1.0)),\n",
    "    stimulus_around_one , SVector((200.0, 201.0)),\n",
    ")\n",
    "protocol_nonzero_intervals = [s1s2fun.S1_window, s1s2fun.S2_window]\n",
    "protocol = Thunderbolt.AnalyticalTransmembraneStimulationProtocol(\n",
    "    AnalyticalCoefficient(\n",
    "        s1s2fun,\n",
    "        coordinate_system_coefficient,\n",
    "    ),\n",
    "    protocol_nonzero_intervals,\n",
    ")"
   ],
   "metadata": {},
   "execution_count": 3
  },
  {
   "cell_type": "markdown",
   "source": [
    "where the coordinate_system_coefficient determines the type of coordiante passed into the protocol."
   ],
   "metadata": {}
  },
  {
   "cell_type": "markdown",
   "source": [
    "> **Todo**\n",
    ">\n",
    "> We should develop a way to define custom stimulation protocols symbolically, e.g. via MTK."
   ],
   "metadata": {}
  },
  {
   "cell_type": "markdown",
   "source": [
    "---\n",
    "\n",
    "*This notebook was generated using [Literate.jl](https://github.com/fredrikekre/Literate.jl).*"
   ],
   "metadata": {}
  }
 ],
 "nbformat_minor": 3,
 "metadata": {
  "language_info": {
   "file_extension": ".jl",
   "mimetype": "application/julia",
   "name": "julia",
   "version": "1.11.4"
  },
  "kernelspec": {
   "name": "julia-1.11",
   "display_name": "Julia 1.11.4",
   "language": "julia"
  }
 },
 "nbformat": 4
}
