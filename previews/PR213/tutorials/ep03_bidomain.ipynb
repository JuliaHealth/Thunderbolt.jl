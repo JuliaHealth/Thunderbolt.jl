{
 "cells": [
  {
   "cell_type": "markdown",
   "source": [
    "# Electrophysiology Tutorial 3: Defibrillation with Bidomain Models\n",
    "\n",
    "> **Todo**\n",
    ">\n",
    "> Show ECG and shock.\n",
    "\n",
    "This tutorial shows how to setup Bidomain models and how to induce Spitzenumkehrtachykardie.\n",
    "\n",
    "> **Todo**\n",
    ">\n",
    "> Provide context.\n",
    "\n",
    "## Commented Program"
   ],
   "metadata": {}
  },
  {
   "cell_type": "markdown",
   "source": [
    "> **Todo**\n",
    ">\n",
    "> Implement bidomain model. Should be quite easy.\n",
    "> We should also showcase subdomain managmeent and some ECG here."
   ],
   "metadata": {}
  },
  {
   "cell_type": "markdown",
   "source": [
    "---\n",
    "\n",
    "*This notebook was generated using [Literate.jl](https://github.com/fredrikekre/Literate.jl).*"
   ],
   "metadata": {}
  }
 ],
 "nbformat_minor": 3,
 "metadata": {
  "language_info": {
   "file_extension": ".jl",
   "mimetype": "application/julia",
   "name": "julia",
   "version": "1.11.5"
  },
  "kernelspec": {
   "name": "julia-1.11",
   "display_name": "Julia 1.11.5",
   "language": "julia"
  }
 },
 "nbformat": 4
}
