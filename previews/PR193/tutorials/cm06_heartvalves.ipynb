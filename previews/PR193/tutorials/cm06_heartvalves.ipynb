{
 "cells": [
  {
   "cell_type": "markdown",
   "source": [
    "# Mechanics Tutorial 6: Coupling Heart Valve Models\n",
    "\n",
    "> **Todo**\n",
    ">\n",
    "> show heart valve dynamics closely\n",
    "\n",
    "This tutorial shows how to include heart valve models in your simulations.\n",
    "\n",
    "> **Todo**\n",
    ">\n",
    "> Provide context.\n",
    "\n",
    "## Commented Program"
   ],
   "metadata": {}
  },
  {
   "cell_type": "markdown",
   "source": [
    "> **Todo**\n",
    ">\n",
    "> Finalize subdomain management and use this as second simple showcase.\n",
    "> We need to figure out where to get the geometry with the strings."
   ],
   "metadata": {}
  },
  {
   "cell_type": "markdown",
   "source": [
    "---\n",
    "\n",
    "*This notebook was generated using [Literate.jl](https://github.com/fredrikekre/Literate.jl).*"
   ],
   "metadata": {}
  }
 ],
 "nbformat_minor": 3,
 "metadata": {
  "language_info": {
   "file_extension": ".jl",
   "mimetype": "application/julia",
   "name": "julia",
   "version": "1.11.3"
  },
  "kernelspec": {
   "name": "julia-1.11",
   "display_name": "Julia 1.11.3",
   "language": "julia"
  }
 },
 "nbformat": 4
}
