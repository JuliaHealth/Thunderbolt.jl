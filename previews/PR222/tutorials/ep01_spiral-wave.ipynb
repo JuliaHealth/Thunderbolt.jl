{
 "cells": [
  {
   "cell_type": "markdown",
   "source": [
    "# Electrophysiology Tutorial 1: Simple Spiral Wave\n",
    "![Spiral Wave](spiral-wave.gif)\n",
    "\n",
    "This tutorial shows how to perform a simulation of electrophysiological behavior of cardiac tissue.\n",
    "\n",
    "## Introduction\n",
    "\n",
    "The most widespread model of cardiac electrophysiology is the monodomain model.\n",
    "It can be defined on a domain $\\Omega$ as the system of partial differential equations\n",
    "\n",
    "$$\n",
    "\\begin{aligned}\n",
    "  \\chi C_{\\textrm{m}} \\partial_t \\varphi &= \\nabla \\cdot \\boldsymbol{\\kappa} \\nabla \\varphi - \\chi I'(\\varphi, \\boldsymbol{s}, t) & \\textrm{in} \\: \\Omega \\, , \\\\\n",
    "  \\partial_t \\boldsymbol{s} &= \\mathbf{g}(\\varphi, \\boldsymbol{s}) & \\textrm{in}  \\: \\Omega \\, , \\\\\n",
    "  0 &= \\boldsymbol{\\kappa} \\nabla \\varphi \\cdot \\mathbf{n} & \\mathrm{on} \\: \\partial \\Omega \\, ,\n",
    "\\end{aligned}\n",
    "$$\n",
    "\n",
    "together with admissible initial conditions and a cellular ionic model to determine $I'$ and $\\mathbf{g}$.\n",
    "${\\boldsymbol{\\kappa}}$ denotes the conductivity tensor, $\\varphi$ is the transmembrane potential field, $\\chi$ is the volume to membrane surface ratio, $C_{\\mathrm{m}}$ is the membrane capacitance, and $I'(\\varphi, \\boldsymbol{s}, t) := I_{\\textrm{ion}}(\\varphi, \\boldsymbol{s}) + I_{\\textrm{stim}}(t)$ denotes the sum of the ionic current due to the cell model and the applied stimulus current, respectively.\n",
    "\n",
    "In this tutorial we will apply a reaction-diffusion split to this model and solve it with an operator splitting solver.\n",
    "For some theory on operator splitting we refer to the theory manual on operator splitting.\n",
    "\n",
    "## Commented Program\n",
    "We start by loading Thunderbolt, OrdinaryDiffEqOperatorSplitting and LinearSolve to use a custom direct solver of our choice."
   ],
   "metadata": {}
  },
  {
   "outputs": [],
   "cell_type": "code",
   "source": [
    "using Thunderbolt, LinearSolve, OrdinaryDiffEqOperatorSplitting"
   ],
   "metadata": {},
   "execution_count": 1
  },
  {
   "cell_type": "markdown",
   "source": [
    "We start by constructing a square domain for our simulation."
   ],
   "metadata": {}
  },
  {
   "outputs": [],
   "cell_type": "code",
   "source": [
    "mesh = generate_mesh(Quadrilateral, (2^6, 2^6), Vec{2}((0.0,0.0)), Vec{2}((2.5,2.5)));"
   ],
   "metadata": {},
   "execution_count": 2
  },
  {
   "cell_type": "markdown",
   "source": [
    "Here the first parameter is the element type and the second parameter is a tuple holding the number of subdivisions per dimension.\n",
    "The last two parameters are the corners defining the rectangular domain.\n",
    "> **Tip**\n",
    ">\n",
    "> We can also load realistic geometries with external formats. For this simply use either FerriteGmsh.jl\n",
    "> or one of the loader functions stated in the mesh API."
   ],
   "metadata": {}
  },
  {
   "cell_type": "markdown",
   "source": [
    "We now define the parameters appearing in the model.\n",
    "For simplciity we assume $C_{\\mathrm{m}} = \\chi = 1.0$ and a homogeneous, anisotropic symmetric conductivity tensor."
   ],
   "metadata": {}
  },
  {
   "outputs": [],
   "cell_type": "code",
   "source": [
    "Cₘ = ConstantCoefficient(1.0)\n",
    "χ  = ConstantCoefficient(1.0)\n",
    "κ  = ConstantCoefficient(SymmetricTensor{2,2,Float64}((4.5e-5, 0, 2.0e-5)));"
   ],
   "metadata": {},
   "execution_count": 3
  },
  {
   "cell_type": "markdown",
   "source": [
    "> **Tip**\n",
    ">\n",
    "> If the mesh is properly annotated, then we can generate (or even load) a cardiac coordinate system.\n",
    "> Consult coordinate system API documentation for details.\n",
    "> With this information we can construct idealized microstructures to define heterogeneous conductivity tensors e.g. as\n",
    "> ```julia\n",
    "> microstructure = create_simple_microstructure_model(\n",
    ">   coordinate_system,\n",
    ">   LagrangeCollection{1}()^3;\n",
    ">   endo_helix_angle = deg2rad(60.0),\n",
    ">   epi_helix_angle = deg2rad(-60.0),\n",
    "> )\n",
    "> κ = SpectralTensorCoefficient(\n",
    ">     microstructure,\n",
    ">     ConstantCoefficient(SVector(κ₁, κ₂, κ₃))\n",
    "> )\n",
    "> ```\n",
    "> where κ₁, κ₂, κ₃ are the eigenvalues for the fiber, sheet and normal direction."
   ],
   "metadata": {}
  },
  {
   "cell_type": "markdown",
   "source": [
    "The spiral wave will unfold due to the specific construction of the initial conditions, hence we do not need to apply a stimulus."
   ],
   "metadata": {}
  },
  {
   "outputs": [],
   "cell_type": "code",
   "source": [
    "stimulation_protocol = NoStimulationProtocol();"
   ],
   "metadata": {},
   "execution_count": 4
  },
  {
   "cell_type": "markdown",
   "source": [
    "Now we choose a cell model.\n",
    "For simplicity we choose a neuronal electrophysiology model, which is a nice playground."
   ],
   "metadata": {}
  },
  {
   "outputs": [],
   "cell_type": "code",
   "source": [
    "cell_model = Thunderbolt.FHNModel();"
   ],
   "metadata": {},
   "execution_count": 5
  },
  {
   "cell_type": "markdown",
   "source": [
    "> **Tip**\n",
    ">\n",
    "> A full list of all models can be found in the [API reference](api-reference/models/#Cells).\n",
    "> To implement a custom cell model please consult the how-to section."
   ],
   "metadata": {}
  },
  {
   "cell_type": "markdown",
   "source": [
    "> **Todo**\n",
    ">\n",
    "> The initializer API is not yet finished and hence we deconstruct stuff here manually.\n",
    "> Please note that this method is quite fragile w.r.t. to many changes you can make in the code below.\n",
    "Spiral wave initializer for the FitzHugh-Nagumo"
   ],
   "metadata": {}
  },
  {
   "outputs": [],
   "cell_type": "code",
   "source": [
    "function spiral_wave_initializer!(u₀, f::GenericSplitFunction)\n",
    "    # TODO cleaner implementation. We need to extract this from the types or via dispatch.\n",
    "    heatfun = f.functions[1]\n",
    "    heat_dofrange = f.solution_indices[1]\n",
    "    odefun = f.functions[2]\n",
    "    ionic_model = odefun.ode\n",
    "\n",
    "    φ₀ = @view u₀[heat_dofrange];\n",
    "    # TODO extraction these via utility functions\n",
    "    dh = heatfun.dh\n",
    "    s₀flat = @view u₀[(ndofs(dh)+1):end];\n",
    "    # Should not be reshape but some array of arrays fun, because in general (e.g. for heterogeneous tissues) we cannot reshape into a matrix\n",
    "    s₀ = reshape(s₀flat, (ndofs(dh), Thunderbolt.num_states(ionic_model)-1));\n",
    "\n",
    "    for cell in CellIterator(dh)\n",
    "        _celldofs = celldofs(cell)\n",
    "        φₘ_celldofs = _celldofs[dof_range(dh, :φₘ)]\n",
    "        # TODO query coordinate directly from the cell model\n",
    "        coordinates = getcoordinates(cell)\n",
    "        for (i, (x₁, x₂)) in zip(φₘ_celldofs,coordinates)\n",
    "            if x₁ <= 1.25 && x₂ <= 1.25\n",
    "                φ₀[i] = 1.0\n",
    "            end\n",
    "            if x₂ >= 1.25\n",
    "                s₀[i,1] = 0.1\n",
    "            end\n",
    "        end\n",
    "    end\n",
    "end;"
   ],
   "metadata": {},
   "execution_count": 6
  },
  {
   "cell_type": "markdown",
   "source": [
    "Now we put the components together by instantiating the monodomain model."
   ],
   "metadata": {}
  },
  {
   "outputs": [],
   "cell_type": "code",
   "source": [
    "ep_model = MonodomainModel(\n",
    "    Cₘ,\n",
    "    χ,\n",
    "    κ,\n",
    "    stimulation_protocol,\n",
    "    cell_model,\n",
    "    :φₘ, :s,\n",
    ");"
   ],
   "metadata": {},
   "execution_count": 7
  },
  {
   "cell_type": "markdown",
   "source": [
    "We now annotate the model to be reaction-diffusion split.\n",
    "Special solvers need special forms for the model.\n",
    "However, the same solver can work with different forms.\n",
    "In the case of operator splitting users might choose to split the equations differently.\n",
    "Hence we leave it as a user option which split they prefer, or if they even want work on the full problem."
   ],
   "metadata": {}
  },
  {
   "outputs": [],
   "cell_type": "code",
   "source": [
    "split_ep_model = ReactionDiffusionSplit(ep_model);"
   ],
   "metadata": {},
   "execution_count": 8
  },
  {
   "cell_type": "markdown",
   "source": [
    "> **Todo**\n",
    ">\n",
    "> Show how to use solvers different that LTG (and implement them)."
   ],
   "metadata": {}
  },
  {
   "cell_type": "markdown",
   "source": [
    "We now need to transform the space-time problem into a time-dependent problem by discretizing it spatially.\n",
    "This can be accomplished by the function semidiscretize, which takes a model and the disretization technique.\n",
    "Here we use a finite element discretization in space with first order Lagrange polynomials to discretize the displacement field.\n",
    "> **Danger**\n",
    ">\n",
    "> The discretization API does now play well with multiple domains right now and will be updated with a possible breaking change in future releases."
   ],
   "metadata": {}
  },
  {
   "outputs": [],
   "cell_type": "code",
   "source": [
    "spatial_discretization_method = FiniteElementDiscretization(\n",
    "    Dict(:φₘ => LagrangeCollection{1}()),\n",
    ")\n",
    "odeform = semidiscretize(split_ep_model, spatial_discretization_method, mesh);"
   ],
   "metadata": {},
   "execution_count": 9
  },
  {
   "cell_type": "markdown",
   "source": [
    "We now allocate a solution vector and set the initial condition."
   ],
   "metadata": {}
  },
  {
   "outputs": [],
   "cell_type": "code",
   "source": [
    "u₀ = zeros(Float32, solution_size(odeform))\n",
    "spiral_wave_initializer!(u₀, odeform);"
   ],
   "metadata": {},
   "execution_count": 10
  },
  {
   "cell_type": "markdown",
   "source": [
    "We proceed by defining the time integration algorithms for each subproblem.\n",
    "First, there is the heat problem, which we will solve with a low-storage backward Euler method"
   ],
   "metadata": {}
  },
  {
   "outputs": [],
   "cell_type": "code",
   "source": [
    "heat_timestepper = BackwardEulerSolver(\n",
    "    inner_solver=KrylovJL_CG(atol=1e-6, rtol=1e-5),\n",
    ");"
   ],
   "metadata": {},
   "execution_count": 11
  },
  {
   "cell_type": "markdown",
   "source": [
    "> **Tip**\n",
    ">\n",
    "> On non-trivial geometries it is highly recommended to use a preconditioner.\n",
    "> Please consult the [LinearSolve.jl docs](https://docs.sciml.ai/LinearSolve/stable/basics/Preconditioners/) for details."
   ],
   "metadata": {}
  },
  {
   "cell_type": "markdown",
   "source": [
    "And then there is the reaction subproblem, which decouples locally into \"number of dofs in the discrete heat problem\" separate ODE.\n",
    "We will solve these locally adaptive with forward Euler steps."
   ],
   "metadata": {}
  },
  {
   "outputs": [],
   "cell_type": "code",
   "source": [
    "cell_timestepper = AdaptiveForwardEulerSubstepper(;\n",
    "    reaction_threshold=0.1,\n",
    ");"
   ],
   "metadata": {},
   "execution_count": 12
  },
  {
   "cell_type": "markdown",
   "source": [
    "Now we can just instantiate the operator splitting algorithm of our choice.\n",
    "Since our time integrators are both first order in time we opt for the standard first order accurrate operator splitting technique by Lie-Trotter (or Godunov)."
   ],
   "metadata": {}
  },
  {
   "outputs": [],
   "cell_type": "code",
   "source": [
    "timestepper = OS.LieTrotterGodunov((heat_timestepper, cell_timestepper));"
   ],
   "metadata": {},
   "execution_count": 13
  },
  {
   "cell_type": "markdown",
   "source": [
    "The remaining code is very similar to how we use SciML solvers.\n",
    "We first define our time domain, initial time step length and some dt for visualization."
   ],
   "metadata": {}
  },
  {
   "outputs": [],
   "cell_type": "code",
   "source": [
    "dt₀   = 1.0\n",
    "dtvis = 25.0\n",
    "tspan = (0.0, 1000.0);"
   ],
   "metadata": {},
   "execution_count": 14
  },
  {
   "cell_type": "markdown",
   "source": [
    "This speeds up the CI # hide"
   ],
   "metadata": {}
  },
  {
   "outputs": [],
   "cell_type": "code",
   "source": [
    "tspan = (0.0, dtvis);   # hide"
   ],
   "metadata": {},
   "execution_count": 15
  },
  {
   "cell_type": "markdown",
   "source": [
    "Then we setup the problem.\n",
    "We have a split function, so the correct problem is an OperatorSplittingProblem."
   ],
   "metadata": {}
  },
  {
   "outputs": [],
   "cell_type": "code",
   "source": [
    "problem = OS.OperatorSplittingProblem(odeform, u₀, tspan);"
   ],
   "metadata": {},
   "execution_count": 16
  },
  {
   "cell_type": "markdown",
   "source": [
    "> **Tip**\n",
    ">\n",
    "> If we want to solve the problem on the GPU, or if we want to use special matrix and vector formats, we just need to adjust the vector and matrix types.\n",
    "> For example, if we want to problem to be solved on a CUDA GPU with 32 bit precision, then we need to adjust the types as follows.\n",
    "> ```\n",
    "> u₀gpu = CuVector(u₀)\n",
    "> heat_timestepper = BackwardEulerSolver(\n",
    ">   solution_vector_type=CuVector{Float32},\n",
    ">   system_matrix_type=CUDA.CUSPARSE.CuSparseMatrixCSR{Float32, Int32},\n",
    ">   inner_solver=KrylovJL_CG(atol=1.0f-6, rtol=1.0f-5),\n",
    "> )\n",
    "> cell_timestepper = AdaptiveForwardEulerSubstepper(\n",
    ">     solution_vector_type=CuVector{Float32},\n",
    ">     reaction_threshold=0.1f0,\n",
    "> )\n",
    "> ...\n",
    "> problem = OS.OperatorSplittingProblem(odeform, u₀gpu, tspan)\n",
    "> ```"
   ],
   "metadata": {}
  },
  {
   "cell_type": "markdown",
   "source": [
    "Now we initialize our time integrator as usual."
   ],
   "metadata": {}
  },
  {
   "outputs": [],
   "cell_type": "code",
   "source": [
    "integrator = OS.init(problem, timestepper, dt=dt₀);"
   ],
   "metadata": {},
   "execution_count": 17
  },
  {
   "cell_type": "markdown",
   "source": [
    "> **Todo**\n",
    ">\n",
    "> The post-processing API is not yet finished.\n",
    "> Please revisit the tutorial later to see how to post-process the simulation online.\n",
    "> Right now the solution is just exported into VTK, such that users can visualize the solution in e.g. ParaView."
   ],
   "metadata": {}
  },
  {
   "cell_type": "markdown",
   "source": [
    "And finally we solve the problem in time."
   ],
   "metadata": {}
  },
  {
   "outputs": [],
   "cell_type": "code",
   "source": [
    "io = ParaViewWriter(\"EP01_spiral_wave\")\n",
    "for (u, t) in OS.TimeChoiceIterator(integrator, tspan[1]:dtvis:tspan[2])\n",
    "    (; dh) = odeform.functions[1]\n",
    "    φ = u[odeform.solution_indices[1]]\n",
    "    store_timestep!(io, t, dh.grid) do file\n",
    "        Thunderbolt.store_timestep_field!(file, t, dh, φ, :φₘ)\n",
    "    end\n",
    "end;"
   ],
   "metadata": {},
   "execution_count": 18
  },
  {
   "cell_type": "markdown",
   "source": [
    "> **Tip**\n",
    ">\n",
    "> If you want to see more details of the solution process launch Julia with Thunderbolt as debug module:\n",
    "> ```\n",
    "> JULIA_DEBUG=Thunderbolt julia --project --threads=auto my_simulation_runner.jl\n",
    "> ```"
   ],
   "metadata": {}
  },
  {
   "cell_type": "markdown",
   "source": [
    "---\n",
    "\n",
    "*This notebook was generated using [Literate.jl](https://github.com/fredrikekre/Literate.jl).*"
   ],
   "metadata": {}
  }
 ],
 "nbformat_minor": 3,
 "metadata": {
  "language_info": {
   "file_extension": ".jl",
   "mimetype": "application/julia",
   "name": "julia",
   "version": "1.11.5"
  },
  "kernelspec": {
   "name": "julia-1.11",
   "display_name": "Julia 1.11.5",
   "language": "julia"
  }
 },
 "nbformat": 4
}
