{
 "cells": [
  {
   "cell_type": "markdown",
   "source": [
    "# Mechanics Tutorial 2: Prestressing the Heart\n",
    "\n",
    "> **Todo**\n",
    ">\n",
    "> decide which image to show here\n",
    "\n",
    "This tutorial shows how to couple include prestress in your simulations and how to recover the correct initial condition.\n",
    "\n",
    "> **Todo**\n",
    ">\n",
    "> Provide context.\n",
    "\n",
    "## Commented Program"
   ],
   "metadata": {}
  },
  {
   "cell_type": "markdown",
   "source": [
    "> **Info**\n",
    ">\n",
    "> We are preparing a research paper on this topic and will upstream the relevant code into Thunderbolt during review."
   ],
   "metadata": {}
  },
  {
   "cell_type": "markdown",
   "source": [
    "---\n",
    "\n",
    "*This notebook was generated using [Literate.jl](https://github.com/fredrikekre/Literate.jl).*"
   ],
   "metadata": {}
  }
 ],
 "nbformat_minor": 3,
 "metadata": {
  "language_info": {
   "file_extension": ".jl",
   "mimetype": "application/julia",
   "name": "julia",
   "version": "1.11.4"
  },
  "kernelspec": {
   "name": "julia-1.11",
   "display_name": "Julia 1.11.4",
   "language": "julia"
  }
 },
 "nbformat": 4
}
